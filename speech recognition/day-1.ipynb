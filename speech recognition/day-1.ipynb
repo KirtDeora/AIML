{
 "cells": [
  {
   "cell_type": "code",
   "execution_count": null,
   "metadata": {},
   "outputs": [],
   "source": [
    "!pip install speechrecognition"
   ]
  },
  {
   "cell_type": "code",
   "execution_count": null,
   "metadata": {},
   "outputs": [],
   "source": [
    "!pip install pyttsx3\n",
    "!pip install nltk"
   ]
  },
  {
   "cell_type": "code",
   "execution_count": 5,
   "metadata": {},
   "outputs": [
    {
     "name": "stdout",
     "output_type": "stream",
     "text": [
      "Requirement already satisfied: pipwin in c:\\users\\91829\\appdata\\local\\programs\\python\\python310\\lib\\site-packages (0.5.2)\n",
      "Requirement already satisfied: docopt in c:\\users\\91829\\appdata\\local\\programs\\python\\python310\\lib\\site-packages (from pipwin) (0.6.2)\n",
      "Requirement already satisfied: requests in c:\\users\\91829\\appdata\\local\\programs\\python\\python310\\lib\\site-packages (from pipwin) (2.31.0)\n",
      "Requirement already satisfied: pyprind in c:\\users\\91829\\appdata\\local\\programs\\python\\python310\\lib\\site-packages (from pipwin) (2.11.3)\n",
      "Requirement already satisfied: six in c:\\users\\91829\\appdata\\roaming\\python\\python310\\site-packages (from pipwin) (1.16.0)\n",
      "Requirement already satisfied: beautifulsoup4>=4.9.0 in c:\\users\\91829\\appdata\\local\\programs\\python\\python310\\lib\\site-packages (from pipwin) (4.12.2)\n",
      "Requirement already satisfied: js2py in c:\\users\\91829\\appdata\\local\\programs\\python\\python310\\lib\\site-packages (from pipwin) (0.74)\n",
      "Requirement already satisfied: packaging in c:\\users\\91829\\appdata\\roaming\\python\\python310\\site-packages (from pipwin) (23.1)\n",
      "Requirement already satisfied: pySmartDL>=1.3.1 in c:\\users\\91829\\appdata\\local\\programs\\python\\python310\\lib\\site-packages (from pipwin) (1.3.4)\n",
      "Requirement already satisfied: soupsieve>1.2 in c:\\users\\91829\\appdata\\local\\programs\\python\\python310\\lib\\site-packages (from beautifulsoup4>=4.9.0->pipwin) (2.4.1)\n",
      "Requirement already satisfied: tzlocal>=1.2 in c:\\users\\91829\\appdata\\local\\programs\\python\\python310\\lib\\site-packages (from js2py->pipwin) (5.0.1)\n",
      "Requirement already satisfied: pyjsparser>=2.5.1 in c:\\users\\91829\\appdata\\local\\programs\\python\\python310\\lib\\site-packages (from js2py->pipwin) (2.7.1)\n",
      "Requirement already satisfied: charset-normalizer<4,>=2 in c:\\users\\91829\\appdata\\local\\programs\\python\\python310\\lib\\site-packages (from requests->pipwin) (3.2.0)\n",
      "Requirement already satisfied: idna<4,>=2.5 in c:\\users\\91829\\appdata\\local\\programs\\python\\python310\\lib\\site-packages (from requests->pipwin) (3.4)\n",
      "Requirement already satisfied: urllib3<3,>=1.21.1 in c:\\users\\91829\\appdata\\local\\programs\\python\\python310\\lib\\site-packages (from requests->pipwin) (2.0.4)\n",
      "Requirement already satisfied: certifi>=2017.4.17 in c:\\users\\91829\\appdata\\local\\programs\\python\\python310\\lib\\site-packages (from requests->pipwin) (2023.7.22)\n",
      "Requirement already satisfied: tzdata in c:\\users\\91829\\appdata\\local\\programs\\python\\python310\\lib\\site-packages (from tzlocal>=1.2->js2py->pipwin) (2023.3)\n",
      "Package `pyaudio` found in cache\n",
      "Downloading package . . .\n",
      "https://download.lfd.uci.edu/pythonlibs/archived/PyAudio-0.2.11-cp310-cp310-win_amd64.whl\n",
      "PyAudio-0.2.11-cp310-cp310-win_amd64.whl\n",
      "File C:\\Users\\91829\\pipwin\\PyAudio-0.2.11-cp310-cp310-win_amd64.whl already exists\n",
      "Processing c:\\users\\91829\\pipwin\\pyaudio-0.2.11-cp310-cp310-win_amd64.whl\n",
      "PyAudio is already installed with the same version as the provided wheel. Use --force-reinstall to force an installation of the wheel.\n"
     ]
    }
   ],
   "source": [
    "!pip install pipwin\n",
    "!pipwin install pyaudio"
   ]
  },
  {
   "cell_type": "code",
   "execution_count": 10,
   "metadata": {},
   "outputs": [],
   "source": [
    "import speech_recognition as sr"
   ]
  },
  {
   "cell_type": "code",
   "execution_count": 16,
   "metadata": {},
   "outputs": [
    {
     "name": "stdout",
     "output_type": "stream",
     "text": [
      "Speak:\n"
     ]
    },
    {
     "ename": "WaitTimeoutError",
     "evalue": "listening timed out while waiting for phrase to start",
     "output_type": "error",
     "traceback": [
      "\u001b[1;31m---------------------------------------------------------------------------\u001b[0m",
      "\u001b[1;31mWaitTimeoutError\u001b[0m                          Traceback (most recent call last)",
      "Cell \u001b[1;32mIn[16], line 5\u001b[0m\n\u001b[0;32m      3\u001b[0m \u001b[39mwith\u001b[39;00m sr\u001b[39m.\u001b[39mMicrophone() \u001b[39mas\u001b[39;00m mic:\n\u001b[0;32m      4\u001b[0m     \u001b[39mprint\u001b[39m(\u001b[39m'\u001b[39m\u001b[39mSpeak:\u001b[39m\u001b[39m'\u001b[39m)\n\u001b[1;32m----> 5\u001b[0m     audio \u001b[39m=\u001b[39m rec\u001b[39m.\u001b[39;49mlisten(mic, timeout\u001b[39m=\u001b[39;49m\u001b[39m2\u001b[39;49m, phrase_time_limit\u001b[39m=\u001b[39;49m\u001b[39m4\u001b[39;49m)\n\u001b[0;32m      7\u001b[0m     \u001b[39mtry\u001b[39;00m:\n\u001b[0;32m      8\u001b[0m         text \u001b[39m=\u001b[39m rec\u001b[39m.\u001b[39mrecognize_google(audio)\n",
      "File \u001b[1;32mc:\\Users\\91829\\AppData\\Local\\Programs\\Python\\Python310\\lib\\site-packages\\speech_recognition\\__init__.py:489\u001b[0m, in \u001b[0;36mRecognizer.listen\u001b[1;34m(self, source, timeout, phrase_time_limit, snowboy_configuration)\u001b[0m\n\u001b[0;32m    487\u001b[0m elapsed_time \u001b[39m+\u001b[39m\u001b[39m=\u001b[39m seconds_per_buffer\n\u001b[0;32m    488\u001b[0m \u001b[39mif\u001b[39;00m timeout \u001b[39mand\u001b[39;00m elapsed_time \u001b[39m>\u001b[39m timeout:\n\u001b[1;32m--> 489\u001b[0m     \u001b[39mraise\u001b[39;00m WaitTimeoutError(\u001b[39m\"\u001b[39m\u001b[39mlistening timed out while waiting for phrase to start\u001b[39m\u001b[39m\"\u001b[39m)\n\u001b[0;32m    491\u001b[0m buffer \u001b[39m=\u001b[39m source\u001b[39m.\u001b[39mstream\u001b[39m.\u001b[39mread(source\u001b[39m.\u001b[39mCHUNK)\n\u001b[0;32m    492\u001b[0m \u001b[39mif\u001b[39;00m \u001b[39mlen\u001b[39m(buffer) \u001b[39m==\u001b[39m \u001b[39m0\u001b[39m: \u001b[39mbreak\u001b[39;00m  \u001b[39m# reached end of the stream\u001b[39;00m\n",
      "\u001b[1;31mWaitTimeoutError\u001b[0m: listening timed out while waiting for phrase to start"
     ]
    }
   ],
   "source": [
    "rec = sr.Recognizer()\n",
    "\n",
    "with sr.Microphone() as mic:\n",
    "    print('Speak:')\n",
    "    audio = rec.listen(mic, timeout=2, phrase_time_limit=4)\n",
    "    \n",
    "    try:\n",
    "        text = rec.recognize_google(audio)\n",
    "        print('You said:', text, end='\\n\\n')\n",
    "    except Exception as err:\n",
    "        print('Error:', err, end = '\\n\\n')"
   ]
  },
  {
   "cell_type": "code",
   "execution_count": null,
   "metadata": {},
   "outputs": [],
   "source": [
    "import pyttsx3\n",
    "\n",
    "spk = pyttsx3.init()\n",
    "spk.setProperty('rate', 130) #words per minute\n",
    "spk.setProperty('volume',1.0) #100% volume \n",
    "\n",
    "spk.say('Hi this is the first statement')\n",
    "spk.runAndWait()"
   ]
  },
  {
   "cell_type": "code",
   "execution_count": 12,
   "metadata": {},
   "outputs": [
    {
     "name": "stdout",
     "output_type": "stream",
     "text": [
      "Speak:\n"
     ]
    },
    {
     "ename": "WaitTimeoutError",
     "evalue": "listening timed out while waiting for phrase to start",
     "output_type": "error",
     "traceback": [
      "\u001b[1;31m---------------------------------------------------------------------------\u001b[0m",
      "\u001b[1;31mWaitTimeoutError\u001b[0m                          Traceback (most recent call last)",
      "Cell \u001b[1;32mIn[12], line 14\u001b[0m\n\u001b[0;32m     12\u001b[0m spk\u001b[39m.\u001b[39msay(\u001b[39m'\u001b[39m\u001b[39mSpeak Now:\u001b[39m\u001b[39m'\u001b[39m)\n\u001b[0;32m     13\u001b[0m spk\u001b[39m.\u001b[39mrunAndWait()\n\u001b[1;32m---> 14\u001b[0m audio \u001b[39m=\u001b[39m rec\u001b[39m.\u001b[39;49mlisten(mic, timeout\u001b[39m=\u001b[39;49m\u001b[39m1\u001b[39;49m, phrase_time_limit\u001b[39m=\u001b[39;49m\u001b[39m2\u001b[39;49m)\n\u001b[0;32m     16\u001b[0m \u001b[39mtry\u001b[39;00m:\n\u001b[0;32m     17\u001b[0m     text\u001b[39m=\u001b[39m rec\u001b[39m.\u001b[39mrecognize_google(audio)\n",
      "File \u001b[1;32mc:\\Users\\91829\\AppData\\Local\\Programs\\Python\\Python310\\lib\\site-packages\\speech_recognition\\__init__.py:489\u001b[0m, in \u001b[0;36mRecognizer.listen\u001b[1;34m(self, source, timeout, phrase_time_limit, snowboy_configuration)\u001b[0m\n\u001b[0;32m    487\u001b[0m elapsed_time \u001b[39m+\u001b[39m\u001b[39m=\u001b[39m seconds_per_buffer\n\u001b[0;32m    488\u001b[0m \u001b[39mif\u001b[39;00m timeout \u001b[39mand\u001b[39;00m elapsed_time \u001b[39m>\u001b[39m timeout:\n\u001b[1;32m--> 489\u001b[0m     \u001b[39mraise\u001b[39;00m WaitTimeoutError(\u001b[39m\"\u001b[39m\u001b[39mlistening timed out while waiting for phrase to start\u001b[39m\u001b[39m\"\u001b[39m)\n\u001b[0;32m    491\u001b[0m buffer \u001b[39m=\u001b[39m source\u001b[39m.\u001b[39mstream\u001b[39m.\u001b[39mread(source\u001b[39m.\u001b[39mCHUNK)\n\u001b[0;32m    492\u001b[0m \u001b[39mif\u001b[39;00m \u001b[39mlen\u001b[39m(buffer) \u001b[39m==\u001b[39m \u001b[39m0\u001b[39m: \u001b[39mbreak\u001b[39;00m  \u001b[39m# reached end of the stream\u001b[39;00m\n",
      "\u001b[1;31mWaitTimeoutError\u001b[0m: listening timed out while waiting for phrase to start"
     ]
    }
   ],
   "source": [
    "import speech_recognition as sr\n",
    "import pyttsx3\n",
    "\n",
    "spk = pyttsx3.init()\n",
    "spk.setProperty('rate', 130) #words per minute\n",
    "spk.setProperty('volume',1.0) #100% volume \n",
    "\n",
    "rec = sr.Recognizer()\n",
    "\n",
    "with sr.Microphone() as mic:\n",
    "    print('Speak:')\n",
    "    spk.say('Speak Now:')\n",
    "    spk.runAndWait()\n",
    "    audio = rec.listen(mic, timeout=1, phrase_time_limit=2)\n",
    "\n",
    "    try:\n",
    "        text= rec.recognize_google(audio)\n",
    "        print('You Said:', text , end='\\n\\n')\n",
    "        spk.say('You might have said,' + text)\n",
    "        spk.runAndWait()\n",
    "    except Exception as err:\n",
    "        print('Error:', err, end='\\n\\n')"
   ]
  },
  {
   "cell_type": "code",
   "execution_count": null,
   "metadata": {},
   "outputs": [],
   "source": []
  }
 ],
 "metadata": {
  "kernelspec": {
   "display_name": "Python 3",
   "language": "python",
   "name": "python3"
  },
  "language_info": {
   "codemirror_mode": {
    "name": "ipython",
    "version": 3
   },
   "file_extension": ".py",
   "mimetype": "text/x-python",
   "name": "python",
   "nbconvert_exporter": "python",
   "pygments_lexer": "ipython3",
   "version": "3.10.11"
  },
  "orig_nbformat": 4
 },
 "nbformat": 4,
 "nbformat_minor": 2
}
